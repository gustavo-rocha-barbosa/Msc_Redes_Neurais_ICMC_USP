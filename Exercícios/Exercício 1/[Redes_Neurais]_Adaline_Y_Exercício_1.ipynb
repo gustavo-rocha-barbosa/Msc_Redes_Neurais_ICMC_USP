{
  "cells": [
    {
      "cell_type": "code",
      "execution_count": null,
      "metadata": {
        "id": "jtf3-raEvUjO"
      },
      "outputs": [],
      "source": [
        "import numpy as np\n",
        "import random"
      ]
    },
    {
      "cell_type": "code",
      "execution_count": null,
      "metadata": {
        "id": "Irkx8f0cmQNF"
      },
      "outputs": [],
      "source": [
        "# Entradas dos \"Y's\" normais original(entrada_1) e com ruídos ----> Saída (-1) - Conjunto de Treino:\n",
        "\n",
        "entrada_1 =np.array([[+1, -1, -1, -1, +1],\n",
        "            [+1, -1, -1, -1, +1],\n",
        "            [-1, +1, +1, +1, -1],\n",
        "            [-1, -1, +1, -1, -1],\n",
        "            [-1, -1, +1, -1, -1]])\n",
        "\n",
        "entrada_2 = np.array([[+1, -1, -1, -1, +1],\n",
        "             [+1, +1, -1, -1, +1],\n",
        "             [-1, +1, +1, +1, -1],\n",
        "             [-1, -1, +1, -1, -1],\n",
        "             [-1, -1, +1, -1, -1]])\n",
        "\n",
        "entrada_3 = np.array([[+1, -1, -1, -1, +1],\n",
        "             [+1, -1, +1, -1, +1],\n",
        "             [-1, +1, +1, +1, -1],\n",
        "             [-1, -1, +1, -1, -1],\n",
        "             [-1, -1, +1, -1, -1]])\n",
        "\n",
        "entrada_4 = np.array([[+1, -1, -1, -1, +1],\n",
        "             [+1, -1, -1, +1, +1],\n",
        "             [-1, +1, +1, +1, -1],\n",
        "             [-1, -1, +1, -1, -1],\n",
        "             [-1, -1, +1, -1, -1]])\n",
        "\n",
        "entrada_5 = np.array([[+1, -1, -1, -1, +1],\n",
        "             [+1, -1, -1, -1, +1],\n",
        "             [-1, +1, +1, +1, -1],\n",
        "             [-1, -1, +1, +1, -1],\n",
        "             [-1, -1, +1, -1, -1]])\n",
        "\n",
        "entrada_6 = np.array([[+1, -1, -1, -1, +1],\n",
        "             [+1, -1, -1, -1, +1],\n",
        "             [-1, +1, +1, +1, -1],\n",
        "             [-1, -1, +1, -1, +1],\n",
        "             [-1, -1, +1, -1, -1]])"
      ]
    },
    {
      "cell_type": "code",
      "execution_count": null,
      "metadata": {
        "id": "TzkIkg6Yokg9"
      },
      "outputs": [],
      "source": [
        "# Entradas dos \"Y's\" invertidos original(entrada_7) e com ruídos ----> Saída (+1) - Conjunto de Treino:\n",
        "\n",
        "entrada_7 = np.array([[-1, -1, +1, -1, -1],\n",
        "             [-1, -1, +1, -1, -1],\n",
        "             [-1, +1, +1, +1, -1],\n",
        "             [+1, -1, -1, -1, +1],\n",
        "             [+1, -1, -1, -1, +1]])\n",
        "\n",
        "entrada_8 = np.array([[+1, -1, +1, -1, -1],\n",
        "             [+1, -1, +1, -1, -1],\n",
        "             [-1, +1, +1, +1, -1],\n",
        "             [+1, -1, -1, -1, +1],\n",
        "             [+1, -1, -1, -1, +1]])\n",
        "\n",
        "entrada_9 = np.array([[-1, -1, +1, -1, -1],\n",
        "             [-1, -1, +1, -1, +1],\n",
        "             [-1, +1, +1, +1, -1],\n",
        "             [+1, -1, -1, -1, +1],\n",
        "             [+1, -1, -1, -1, +1]])\n",
        "\n",
        "entrada_10 = np.array([[-1, -1, +1, -1, -1],\n",
        "             [-1, -1, +1, -1, -1],\n",
        "             [-1, +1, +1, +1, -1],\n",
        "             [+1, +1, -1, +1, +1],\n",
        "             [+1, -1, -1, -1, +1]])\n",
        "\n",
        "entrada_11 = np.array([[-1, -1, +1, -1, -1],\n",
        "             [-1, -1, +1, -1, -1],\n",
        "             [+1, +1, +1, +1, -1],\n",
        "             [+1, -1, -1, -1, +1],\n",
        "             [+1, -1, -1, -1, +1]])\n",
        "\n",
        "entrada_12 = np.array([[-1, -1, +1, -1, -1],\n",
        "             [-1, -1, +1, -1, -1],\n",
        "             [-1, +1, +1, +1, -1],\n",
        "             [+1, +1, -1, -1, +1],\n",
        "             [+1, -1, -1, +1, +1]])"
      ]
    },
    {
      "cell_type": "code",
      "execution_count": null,
      "metadata": {
        "id": "GOpfM9t9vINw"
      },
      "outputs": [],
      "source": [
        "# Pesos:\n",
        "\n",
        "def pesos(n, entrada):\n",
        "    w1 = []\n",
        "    w = []\n",
        "    for i in range(len(entrada)+1):\n",
        "      w.append(w1)\n",
        "      w1 = []\n",
        "      for j in range(len(entrada[0])):\n",
        "        numero_aleatorio = random.uniform(-n, n)\n",
        "        w1.append(numero_aleatorio)\n",
        "    w = w[1:]\n",
        "    return w"
      ]
    },
    {
      "cell_type": "code",
      "execution_count": null,
      "metadata": {
        "colab": {
          "base_uri": "https://localhost:8080/"
        },
        "id": "riesFPYkFVsx",
        "outputId": "54f135fe-e2da-442a-aefa-80d4ca39e4ea"
      },
      "outputs": [],
      "source": [
        "w  = pesos(0.5, entrada_1)\n",
        "w"
      ]
    },
    {
      "cell_type": "code",
      "execution_count": null,
      "metadata": {
        "id": "_jdPoNQJrD_w"
      },
      "outputs": [],
      "source": [
        "targets = [-1, -1, -1, -1, -1, -1, 1, 1, 1, 1, 1, 1]"
      ]
    },
    {
      "cell_type": "code",
      "execution_count": null,
      "metadata": {
        "id": "qjLliRbDvcsI"
      },
      "outputs": [],
      "source": [
        "def adaline_treino(entrada, peso, target):\n",
        "  n = 0.1*12\n",
        "  x = 0\n",
        "  for i in range(len(entrada)):\n",
        "    for j in range(len(entrada[i])):\n",
        "      x += entrada[i][j]*peso[i][j]\n",
        "\n",
        "  if x < 0:\n",
        "    f = -1\n",
        "  else:\n",
        "    f = 1\n",
        "\n",
        "  print(f)\n",
        "  for i in range(len(entrada)):\n",
        "    for j in range(len(entrada[i])):\n",
        "      peso[i][j] = peso[i][j] + n*(target-f)*entrada[i][j]\n",
        "\n",
        "  return peso, f"
      ]
    },
    {
      "cell_type": "code",
      "execution_count": null,
      "metadata": {
        "colab": {
          "base_uri": "https://localhost:8080/"
        },
        "id": "IchNjasMzEOL",
        "outputId": "d6d5926c-ae40-402e-db0f-389d1603ef8d"
      },
      "outputs": [],
      "source": [
        "vetor = [entrada_1, entrada_2, entrada_3, entrada_4, entrada_5, entrada_6, entrada_7, entrada_8, entrada_9, entrada_10, entrada_11, entrada_12]\n",
        "erro = 1\n",
        "retorno = []\n",
        "numero_ciclos = 0\n",
        "contagem_erro = 0\n",
        "\n",
        "while erro != 0:\n",
        "  for i in range(len(vetor)):\n",
        "    retorno.append(adaline_treino(vetor[i],w, targets[i])[1])\n",
        "  erros = np.array(retorno) - np.array(targets)\n",
        "  numero_ciclos += 1\n",
        "  retorno = []\n",
        "  print(f'Ciclos: {numero_ciclos}')\n",
        "  contagem_erro = 0\n",
        "\n",
        "  for _ in erros:\n",
        "    if _ != 0:\n",
        "      contagem_erro += 1\n",
        "    else:\n",
        "      continue\n",
        "\n",
        "  if contagem_erro == 0:\n",
        "    erro = 0\n"
      ]
    },
    {
      "cell_type": "code",
      "execution_count": null,
      "metadata": {
        "id": "UMQCJs-IPIF9"
      },
      "outputs": [],
      "source": [
        "def adaline_teste(entrada, peso):\n",
        "  x = 0\n",
        "  for i in range(len(entrada)):\n",
        "    for j in range(len(entrada[i])):\n",
        "      x += entrada[i][j]*peso[i][j]\n",
        "\n",
        "  if x < 0:\n",
        "    f = -1\n",
        "  else:\n",
        "    f = 1\n",
        "\n",
        "  if f == -1:\n",
        "    resultado = 'Y'\n",
        "  else:\n",
        "    resultado = 'Y Invertido'\n",
        "\n",
        "  return f, resultado"
      ]
    },
    {
      "cell_type": "code",
      "execution_count": null,
      "metadata": {
        "id": "KIH41hA6yQCF"
      },
      "outputs": [],
      "source": [
        "# Testes pós treinamento:\n",
        "\n",
        "entrada_13 = np.array( [[-1, -1, +1, -1, -1],\n",
        "                        [-1, -1, +1, -1, -1],\n",
        "                        [+1, +1, +1, +1, -1],\n",
        "                        [+1, +1, -1, +1, -1],\n",
        "                        [-1, +1, +1, -1, +1]])\n",
        "\n",
        "entrada_14 = np.array( [[+1, -1, +1, -1, +1],\n",
        "                        [-1, +1, -1, +1, -1],\n",
        "                        [-1, +1, +1, +1, -1],\n",
        "                        [-1, -1, +1, -1, -1],\n",
        "                        [-1, -1, +1, -1, +1]])\n",
        "\n",
        "entrada_15 = np.array( [[+1, -1, +1, -1, +1],\n",
        "                        [-1, +1, +1, +1, -1],\n",
        "                        [-1, +1, +1, +1, -1],\n",
        "                        [-1, -1, +1, -1, -1],\n",
        "                        [-1, -1, -1, -1, -1]])\n",
        "\n",
        "entrada_16 = np.array( [[-1, -1, -1, -1, -1],\n",
        "                        [-1, -1, +1, -1, -1],\n",
        "                        [+1, +1, +1, +1, -1],\n",
        "                        [+1, +1, -1, +1, -1],\n",
        "                        [+1, +1, -1, -1, +1]])\n",
        "\n",
        "entrada_17 = np.array( [[-1, -1, -1, -1, -1],\n",
        "                        [-1, -1, +1, -1, -1],\n",
        "                        [-1, -1, +1, -1, -1],\n",
        "                        [-1, +1, -1, +1, -1],\n",
        "                        [-1, -1, -1, -1, -1]])\n",
        "\n",
        "entrada_18 = np.array( [[-1, -1, -1, -1, -1],\n",
        "                        [-1, +1, -1, +1, -1],\n",
        "                        [-1, -1, +1, -1, -1],\n",
        "                        [-1, -1, +1, -1, -1],\n",
        "                        [-1, -1, -1, -1, -1]])\n",
        "\n",
        "\n",
        "entrada_19 = np.array( [[+1, -1, -1, +1, +1],\n",
        "                        [-1, +1, +1, +1, -1],\n",
        "                        [-1, -1, +1, -1, -1],\n",
        "                        [-1, -1, +1, -1, -1],\n",
        "                        [-1, -1, +1, -1, -1]])"
      ]
    },
    {
      "cell_type": "code",
      "execution_count": null,
      "metadata": {
        "colab": {
          "base_uri": "https://localhost:8080/"
        },
        "id": "--T-us941op2",
        "outputId": "9aafc2d8-b9f5-4c31-8bfb-87dd7def1b86"
      },
      "outputs": [],
      "source": [
        "adaline_teste(entrada_13,w)"
      ]
    },
    {
      "cell_type": "code",
      "execution_count": null,
      "metadata": {
        "colab": {
          "base_uri": "https://localhost:8080/"
        },
        "id": "5Dla517o1r3Y",
        "outputId": "a678f753-2c54-4c6c-fd29-e7891c891a19"
      },
      "outputs": [],
      "source": [
        "adaline_teste(entrada_14,w)"
      ]
    },
    {
      "cell_type": "code",
      "execution_count": null,
      "metadata": {
        "colab": {
          "base_uri": "https://localhost:8080/"
        },
        "id": "--93OmzRWQwo",
        "outputId": "7a03c2e8-2018-4590-b3bd-45b883e2ad9c"
      },
      "outputs": [],
      "source": [
        "adaline_teste(entrada_15,w)"
      ]
    },
    {
      "cell_type": "code",
      "execution_count": null,
      "metadata": {
        "colab": {
          "base_uri": "https://localhost:8080/"
        },
        "id": "O1y8Kh9HWfnO",
        "outputId": "44b06e39-c065-4ec3-f7e2-5d56638aad72"
      },
      "outputs": [],
      "source": [
        "adaline_teste(entrada_16,w)"
      ]
    },
    {
      "cell_type": "code",
      "execution_count": null,
      "metadata": {
        "colab": {
          "base_uri": "https://localhost:8080/"
        },
        "id": "f_nJ4g5LaJdW",
        "outputId": "e09e3458-2343-48f2-d24b-db1d6f03047d"
      },
      "outputs": [],
      "source": [
        "adaline_teste(entrada_17,w)"
      ]
    },
    {
      "cell_type": "code",
      "execution_count": null,
      "metadata": {
        "colab": {
          "base_uri": "https://localhost:8080/"
        },
        "id": "AKQxe7qgaXJJ",
        "outputId": "6250221f-b038-4a82-c84e-30c3e9dec066"
      },
      "outputs": [],
      "source": [
        "adaline_teste(entrada_18,w)"
      ]
    },
    {
      "cell_type": "code",
      "execution_count": null,
      "metadata": {
        "colab": {
          "base_uri": "https://localhost:8080/"
        },
        "id": "UURpTzM6tnKM",
        "outputId": "675e865d-18a0-4c36-e2c3-e9e52a9181c4"
      },
      "outputs": [],
      "source": [
        "adaline_teste(entrada_19,w)"
      ]
    },
    {
      "cell_type": "markdown",
      "metadata": {
        "id": "EPmlxU9i3u_K"
      },
      "source": [
        "### Adaline com Classes:"
      ]
    },
    {
      "cell_type": "code",
      "execution_count": null,
      "metadata": {
        "id": "pBHdTGJ6kxe1"
      },
      "outputs": [],
      "source": [
        "class AdalineY:\n",
        "\n",
        "  '''\n",
        "\n",
        "  Adaline: ADAptive LInear NEuron classifier\n",
        "\n",
        "  Originalmente feita para treinar um modelo para o reconhecimento de imagem em\n",
        "  uma matriz de -1 e +1. Os rótulos -1 são para valores de imagens corretas\n",
        "  (no caso inicial um \"Y\") e rótulos +1 para valores de imagens invertidas, no\n",
        "  presente caso um \"Y\" invertido. As matrizes de entradas devem ser de 5x5, bem\n",
        "  como as matrizes de teste.\n",
        "  ------------------------------------------------------------------------------\n",
        "  Funções:\n",
        "\n",
        "  _peso: Calcula a matriz inicial de peso em um range aleatório;\n",
        "\n",
        "  _treino: Treina uma única vez o modelo Adaline:\n",
        "    peso_final = peso_inicial + eta*(t-s)*entrada_inicial\n",
        "\n",
        "  _teste: Testa valores de entradas com base na matriz de peso atualizada\n",
        "    na função _treino.\n",
        "\n",
        "  Parâmetros:\n",
        "\n",
        "    _peso(dimensao_matriz=5, intervalo_peso=0.5):\n",
        "\n",
        "      dimensao_matriz: int\n",
        "      intervalo_peso: float\n",
        "\n",
        "    _treino(peso='', vetor_entrada='', targets='', eta=0.1):\n",
        "\n",
        "      peso: 2D-Array\n",
        "      vetor_entrada: 3D-Array\n",
        "      targets: 1D-Array\n",
        "      eta: float\n",
        "\n",
        "    _teste(entrada='', peso=''):\n",
        "\n",
        "      entrada: 2D-Array\n",
        "      peso: 2D-Array\n",
        "\n",
        "  '''\n",
        "\n",
        "  def __init__(self):\n",
        "    print(\"Incialização Adaline\")\n",
        "\n",
        "  def _peso(self, dimensao_matriz=5, intervalo_peso=0.5):\n",
        "\n",
        "    self.dimensao_matriz = dimensao_matriz\n",
        "    self.intervalo_peso = intervalo_peso\n",
        "\n",
        "    w1 = []\n",
        "    w = []\n",
        "    for i in range(dimensao_matriz+1):\n",
        "      w.append(w1)\n",
        "      w1 = []\n",
        "      for j in range(dimensao_matriz):\n",
        "        numero_aleatorio = random.uniform(-intervalo_peso, intervalo_peso)\n",
        "        w1.append(numero_aleatorio)\n",
        "\n",
        "    w = w[1:]\n",
        "    print(f\"Inicialização dos Pesos (Matriz de Pesos aleatórios iniciada) no intervalo: [{-intervalo_peso},{intervalo_peso}]\")\n",
        "    return w\n",
        "\n",
        "  def _treino(self, peso='', vetor_entrada='', targets='', eta=0.1):\n",
        "    self.peso = peso\n",
        "    self.vetor_entrada = vetor_entrada\n",
        "    self.targets = targets\n",
        "    self.eta = eta\n",
        "\n",
        "    n_entrada = len(vetor_entrada)\n",
        "    n = eta*n_entrada\n",
        "    x = 0\n",
        "    ciclo = 0\n",
        "    fs = []\n",
        "\n",
        "    for k in range(len(vetor_entrada)):\n",
        "      x = 0\n",
        "      for i in range(len(vetor_entrada[k])-1):\n",
        "        for j in range(len(vetor_entrada[k])-1):\n",
        "          x += vetor_entrada[k][i][j]*peso[i][j]\n",
        "\n",
        "      if x < 0:\n",
        "        f = -1\n",
        "      else:\n",
        "        f = 1\n",
        "\n",
        "      fs.append(f)\n",
        "\n",
        "    print(f\"Targets de Treinamento: {fs}\")\n",
        "    for k in range(len(targets)):\n",
        "      for i in range(len(vetor_entrada[k])-1):\n",
        "        for j in range(len(vetor_entrada[k])-1):\n",
        "          peso[i][j] = peso[i][j] + n*(targets[k]-fs[k])*vetor_entrada[k][i][j]\n",
        "\n",
        "    print(f\"Matriz de pesos atualizada: {peso}\")\n",
        "\n",
        "    return peso, fs\n",
        "\n",
        "  def _teste(self, entrada='', peso=''):\n",
        "    x = 0\n",
        "    for i in range(len(entrada)):\n",
        "      for j in range(len(entrada[i])):\n",
        "        x += entrada[i][j]*peso[i][j]\n",
        "\n",
        "    if x < 0:\n",
        "      f = -1\n",
        "    else:\n",
        "      f = 1\n",
        "\n",
        "    if f == -1:\n",
        "      resultado = 'Y'\n",
        "    else:\n",
        "      resultado = 'Y Invertido'\n",
        "\n",
        "    print(f\"Rótulo: {f} | Resultado: {resultado}\")\n",
        "\n",
        "    return f, resultado"
      ]
    },
    {
      "cell_type": "code",
      "execution_count": null,
      "metadata": {
        "id": "HsllcL5y2Ljo"
      },
      "outputs": [],
      "source": [
        "vetor_entrada = [entrada_1, entrada_2, entrada_3, entrada_4, entrada_5, entrada_6, entrada_7, entrada_8, entrada_9, entrada_10, entrada_11, entrada_12]\n",
        "targets = [-1, -1, -1, -1, -1, -1, 1, 1, 1, 1, 1, 1]"
      ]
    },
    {
      "cell_type": "code",
      "execution_count": null,
      "metadata": {
        "colab": {
          "base_uri": "https://localhost:8080/"
        },
        "id": "F5vQgh7awL4h",
        "outputId": "e915e604-d576-482e-d5fc-b7b279a80ca7"
      },
      "outputs": [],
      "source": [
        "print(AdalineY.__doc__)\n"
      ]
    },
    {
      "cell_type": "code",
      "execution_count": null,
      "metadata": {
        "colab": {
          "base_uri": "https://localhost:8080/"
        },
        "id": "xIogCm2qby2E",
        "outputId": "c7c5dea5-a0a3-4739-a733-35c6644e21ea"
      },
      "outputs": [],
      "source": [
        "adaline = AdalineY()"
      ]
    },
    {
      "cell_type": "code",
      "execution_count": null,
      "metadata": {
        "colab": {
          "base_uri": "https://localhost:8080/"
        },
        "id": "sr6xGBLC0Ik_",
        "outputId": "99d85104-8ee2-4360-84b5-aebc7684ab3d"
      },
      "outputs": [],
      "source": [
        "peso = adaline._peso()"
      ]
    },
    {
      "cell_type": "code",
      "execution_count": null,
      "metadata": {
        "colab": {
          "base_uri": "https://localhost:8080/"
        },
        "id": "zKd1-A7s5Xtp",
        "outputId": "74cf304f-de74-4c10-dc7f-c72c4e82bd85"
      },
      "outputs": [],
      "source": [
        "#Treinamento:\n",
        "ciclo = 0\n",
        "treino =''\n",
        "while treino != targets:\n",
        "  ciclo += 1\n",
        "  print(f'Ciclo: {ciclo}')\n",
        "  treino, peso = adaline._treino(peso=peso, vetor_entrada=vetor_entrada, targets=targets)[1], adaline._treino(peso=peso, vetor_entrada=vetor_entrada, targets=targets)[0]"
      ]
    },
    {
      "cell_type": "code",
      "execution_count": null,
      "metadata": {
        "colab": {
          "base_uri": "https://localhost:8080/"
        },
        "id": "56IkYf0N-Izb",
        "outputId": "87c3d75d-be74-4ccd-a46e-0bbead5c47cd"
      },
      "outputs": [],
      "source": [
        "teste = adaline._teste(entrada=entrada_19, peso=peso)"
      ]
    }
  ],
  "metadata": {
    "colab": {
      "provenance": []
    },
    "kernelspec": {
      "display_name": "Python 3",
      "name": "python3"
    },
    "language_info": {
      "codemirror_mode": {
        "name": "ipython",
        "version": 3
      },
      "file_extension": ".py",
      "mimetype": "text/x-python",
      "name": "python",
      "nbconvert_exporter": "python",
      "pygments_lexer": "ipython3",
      "version": "3.12.1"
    }
  },
  "nbformat": 4,
  "nbformat_minor": 0
}
