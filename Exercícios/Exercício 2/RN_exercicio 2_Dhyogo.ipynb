{
 "cells": [
  {
   "cell_type": "code",
   "execution_count": 1,
   "metadata": {},
   "outputs": [],
   "source": [
    "# Exercicio 2\n",
    "\n",
    "from random import random\n",
    "import numpy as np\n",
    "import math\n",
    "import matplotlib.pyplot as plt"
   ]
  },
  {
   "cell_type": "code",
   "execution_count": 2,
   "metadata": {},
   "outputs": [],
   "source": [
    "class MultilayerPerceptron():\n",
    "\n",
    "    def __init__(self):\n",
    "        self.NN = [] \n",
    "\n",
    "    # metodo para criacao de camadas\n",
    "    def DenseLayer(self, n_neurons, input_layer=False):\n",
    "        n_inputs = None\n",
    "        if input_layer != False:\n",
    "            n_inputs = input_layer # inputs pesos baseados na input_layer\n",
    "        else:\n",
    "            n_inputs = len(self.NN[-1]) # inputs pesos baseados na camada anterior\n",
    "\n",
    "        # cria camda com pesos randomicos\n",
    "        new_layer = [{'weights': [random() for i in range(n_inputs + 1)]} for i in range(n_neurons)]\n",
    "\n",
    "        self.NN.append(new_layer) # adiciona camada a rede\n",
    "\n",
    "    # metodo para insercao de 1 para o bias\n",
    "    def insert_one(self, inputs):\n",
    "        inputs = np.insert(inputs, [0], [1], axis=0)\n",
    "        return inputs\n",
    "\n",
    "    # metodo para multiplicar e somar os pesos pelo inputs\n",
    "    def activate(self, weights, inputs):\n",
    "        X = np.array(inputs)        \n",
    "        weights = np.array(weights) \n",
    "        X = self.insert_one(X)      \n",
    "        z = X @ weights.T           \n",
    "        return z\n",
    "\n",
    "    # funcao de ativacao sigmoid\n",
    "    def sigmoid(self, z):\n",
    "        return 1. / (1. + np.exp(-z))\n",
    "\n",
    "    # derivando a sigmoid\n",
    "    def sigmoid_derivative(self, Z):\n",
    "        return Z * (1.0 - Z)\n",
    "\n",
    "    # propagacao\n",
    "    def forward(self, row):\n",
    "        inputs = row\n",
    "        for layer in self.NN: # itera camadas na rede\n",
    "            new_inputs = []\n",
    "            for neuron in layer: # itera neurônio da camada\n",
    "                Z = self.activate(neuron['weights'], inputs) \n",
    "                neuron['output'] = self.sigmoid(Z) # aplica sigmoid\n",
    "                new_inputs.append(neuron['output']) # adiciona output (A) na proxima camada\n",
    "            inputs = new_inputs\n",
    "        return inputs\n",
    "\n",
    "    # metodo para calcular deltas dos neuronios\n",
    "    def calculate_deltas(self, y):\n",
    "        # backpropagation\n",
    "        for i, layer in reversed(list(enumerate(self.NN))):\n",
    "            # cria lista de erros\n",
    "            errors = list()\n",
    "            # verifica erro camada de saida\n",
    "            if i == len(self.NN) - 1:\n",
    "                l = len(layer)\n",
    "                for j, neuron in enumerate((layer)):\n",
    "                    # calcula erro para neuronio na camada de saida\n",
    "                    errors.append(y[j] - neuron['output'])\n",
    "            # calcula erro nas demais camadas\n",
    "            else:\n",
    "                for j in range(len(layer)):\n",
    "                    error = 0.0\n",
    "                    for neuron in self.NN[i + 1]:  \n",
    "                        delta_anterior = neuron['delta'] # recupera o delta da camada anterior\n",
    "                        peso_anterior = neuron['weights'][j + 1] # recupera peso da camada anterior\n",
    "                        err = peso_anterior * delta_anterior # calcula o erro\n",
    "                        error += err\n",
    "                    errors.append(error) \n",
    "            # calcula deltas para cada neurônio da camada atual\n",
    "            for j, neuron in enumerate((layer)):\n",
    "                d_sigmoid = self.sigmoid_derivative(neuron['output'])\n",
    "                erro = errors[j]\n",
    "                delta = erro * d_sigmoid\n",
    "                neuron['delta'] = delta\n",
    "\n",
    "    # metodo de atualizacao dos pesos\n",
    "    def update_weights(self, row, l_rate):\n",
    "        # percorre da camada de saida para de entrada\n",
    "        for i, layer in reversed(list(enumerate(self.NN))):\n",
    "            if i == 0: # i=0 na input layer\n",
    "                inputs = row\n",
    "            else:\n",
    "                inputs = []\n",
    "                for neuron in self.NN[i - 1]: # recupera outputs da camada\n",
    "                    out = neuron['output'] \n",
    "                    inputs.append(out)\n",
    "            for neuron in self.NN[i]:\n",
    "                # atualizando bias\n",
    "                bias = neuron['weights'][0]\n",
    "                delta = neuron['delta']\n",
    "                UPDATE = bias + l_rate * neuron['delta']\n",
    "                neuron['weights'][0] = UPDATE  # atualizando bias\n",
    "                # atualizando pesos\n",
    "                for j in range(0, len(inputs)):\n",
    "                    input = inputs[j]\n",
    "                    delta = neuron['delta']\n",
    "                    weight_ant = neuron['weights'][j + 1]\n",
    "                    UPDATE = weight_ant + (l_rate * delta * input)\n",
    "                    neuron['weights'][j + 1] = UPDATE\n",
    "\n",
    "    # metodo de ajuste do shape do target (y)\n",
    "    def ajust_shapes(self, X, y):\n",
    "        shape_X = X.shape\n",
    "        shape_y = y.shape\n",
    "        if len(shape_y) == 1:\n",
    "            y = y.reshape(shape_y[0], 1)\n",
    "        return y\n",
    "\n",
    "    \n",
    "    # metodo de treinamento\n",
    "    def fit(self, train_X, train_y, l_rate, epochs):\n",
    "        self.epochs = epochs # epocas para plotagem do custo\n",
    "        self.cost = [] # vetor de custo\n",
    "        train_y = self.ajust_shapes(train_X, train_y) # ajustar (y)      \n",
    "        for epoch in range(epochs): # iterando epocas\n",
    "       \n",
    "            sum_error = 0 # somatorio do erro do custo\n",
    "            for i, row in enumerate(train_X): # iterando as linhas\n",
    "                y = np.array(train_y[i])\n",
    "                outputs = np.array(self.forward(row)) # propagacao\n",
    "                sum_error += (y-outputs[0])**2 # somando erro gerado para uma linha de X\n",
    "                self.calculate_deltas(y) # calculando deltas\n",
    "                self.update_weights(train_X[i], l_rate) # atualizando pesos\n",
    "            self.cost.append(np.sum(sum_error)) # custo\n",
    "\n",
    "    # medoto que imprimi custo\n",
    "    def print_cost(self):\n",
    "        for i in range(len(self.cost)):\n",
    "            print('EPOCH {}, CUSTO {}'.format(i, cost[i]))\n",
    "\n",
    "    # metodo que realiza classificacao binaria\n",
    "    def classify(self, row, threshold=0.5):\n",
    "        pred_proba = self.forward(row)\n",
    "        pred = []\n",
    "        for i in range(len(pred_proba)):\n",
    "            if pred_proba[i]>=threshold:\n",
    "                pred.append(1)\n",
    "            else:\n",
    "                pred.append(0)\n",
    "        return pred, pred_proba\n",
    "\n",
    "    # metodo que gera predição não binária e probabilística\n",
    "    def predict(self, row):\n",
    "        pred = self.forward(row)\n",
    "        return pred\n",
    "\n",
    "    # metodo para grafico\n",
    "    def plot_cost(self):\n",
    "        fig, ax = plt.subplots()\n",
    "        ax.plot(np.arange(self.epochs), self.cost, 'r')  \n",
    "        ax.set_xlabel('Iterações')  \n",
    "        ax.set_ylabel('Loss')  \n",
    "        ax.set_title('Loss vs. Epoch')\n"
   ]
  },
  {
   "cell_type": "code",
   "execution_count": 3,
   "metadata": {},
   "outputs": [],
   "source": [
    "# problema XOR\n",
    "\n",
    "X = np.array([[1, 1],\n",
    "              [0, 0],\n",
    "              [0, 1],\n",
    "              [1, 0]])\n",
    "\n",
    "y = np.array([0, 0, 1, 1])"
   ]
  },
  {
   "cell_type": "code",
   "execution_count": 4,
   "metadata": {},
   "outputs": [],
   "source": [
    "# hyperparâmetros\n",
    "\n",
    "input_shape = 2 # camada de entrada\n",
    "l_rate = 0.5 # taxas de aprendizado\n",
    "epochs = 3000 # quantidade de epocas"
   ]
  },
  {
   "cell_type": "code",
   "execution_count": 5,
   "metadata": {},
   "outputs": [],
   "source": [
    "# instanciando objeto da classe\n",
    "\n",
    "mlp = MultilayerPerceptron()\n",
    "\n",
    "# criando camadas\n",
    "\n",
    "mlp.DenseLayer(2, input_shape)  ## camada hidden\n",
    "mlp.DenseLayer(1) # camada output\n",
    "\n",
    "# treinamento\n",
    "\n",
    "mlp.fit(X, y, l_rate, epochs)"
   ]
  },
  {
   "cell_type": "code",
   "execution_count": 6,
   "metadata": {},
   "outputs": [
    {
     "data": {
      "image/png": "[encoded data removed]",
      "text/plain": [
       "<Figure size 640x480 with 1 Axes>"
      ]
     },
     "metadata": {},
     "output_type": "display_data"
    }
   ],
   "source": [
    "# grafido custo\n",
    "\n",
    "mlp.plot_cost()"
   ]
  },
  {
   "cell_type": "code",
   "execution_count": 7,
   "metadata": {},
   "outputs": [
    {
     "name": "stdout",
     "output_type": "stream",
     "text": [
      "Entrada [1,1] = Classe [0], Probabilidade[0.0823772043351125]\n",
      "Entrada [0,0] = Classe [0], Probabilidade[0.05479705615575684]\n",
      "Entrada [0,1] = Classe [1], Probabilidade[0.9374632585581838]\n",
      "Entrada [1,0] = Classe [1], Probabilidade[0.9372207373339969]\n"
     ]
    }
   ],
   "source": [
    "# teste\n",
    "\n",
    "pred, proba = mlp.classify([1, 1])\n",
    "print(\"Entrada [1,1] = Classe {}, Probabilidade{}\".format(pred,proba))\n",
    "\n",
    "pred, proba = mlp.classify([0, 0])\n",
    "print(\"Entrada [0,0] = Classe {}, Probabilidade{}\".format(pred,proba))\n",
    "\n",
    "pred, proba = mlp.classify([0, 1])\n",
    "print(\"Entrada [0,1] = Classe {}, Probabilidade{}\".format(pred,proba))\n",
    "\n",
    "pred, proba = mlp.classify([1, 0])\n",
    "print(\"Entrada [1,0] = Classe {}, Probabilidade{}\".format(pred,proba))\n"
   ]
  },
  {
   "cell_type": "code",
   "execution_count": 8,
   "metadata": {},
   "outputs": [
    {
     "data": {
      "text/plain": [
       "(8, 8)"
      ]
     },
     "execution_count": 8,
     "metadata": {},
     "output_type": "execute_result"
    }
   ],
   "source": [
    "# problema de auto-associador\n",
    "\n",
    "# a) Id(8x8)\n",
    "\n",
    "iden_8 = np.identity(8) # matriz identidade\n",
    "iden_8\n",
    "iden_8.shape"
   ]
  },
  {
   "cell_type": "code",
   "execution_count": 9,
   "metadata": {},
   "outputs": [],
   "source": [
    "# hyperparametros\n",
    "\n",
    "input_shape = iden_8.shape[0] # camada de entrada\n",
    "l_rate = 0.5 # taxas de aprendizado\n",
    "epochs = 3000 # quantidade de epocas\n",
    "output_shape = input_shape # shape de saida\n",
    "\n",
    "N_fist_camada = math.ceil(math.log(input_shape, 2)) # quantidade de neurônios da hidden Log2N"
   ]
  },
  {
   "cell_type": "code",
   "execution_count": 10,
   "metadata": {},
   "outputs": [],
   "source": [
    "# instanciando objeto da classe\n",
    "\n",
    "mlp = MultilayerPerceptron() # instancia\n",
    "mlp.DenseLayer(N_fist_camada, input_shape) # primeira camada com Log2N neuronios e entrada de N\n",
    "mlp.DenseLayer(output_shape) # camada de saida\n"
   ]
  },
  {
   "cell_type": "code",
   "execution_count": 11,
   "metadata": {},
   "outputs": [],
   "source": [
    "# treinamento Id(8x8)\n",
    "\n",
    "mlp.fit(iden_8, iden_8, l_rate, epochs) # treinamento\n"
   ]
  },
  {
   "cell_type": "code",
   "execution_count": 12,
   "metadata": {},
   "outputs": [
    {
     "name": "stdout",
     "output_type": "stream",
     "text": [
      "# Predição do encoder\n",
      "\n",
      "ENCODER -> [1. 0. 0. 0. 0. 0. 0. 0.]  > - < DECODER -> [1, 0, 0, 0, 0, 0, 0, 0]\n",
      "ENCODER -> [0. 1. 0. 0. 0. 0. 0. 0.]  > - < DECODER -> [0, 1, 0, 0, 0, 0, 0, 0]\n",
      "ENCODER -> [0. 0. 1. 0. 0. 0. 0. 0.]  > - < DECODER -> [0, 0, 1, 0, 0, 0, 0, 0]\n",
      "ENCODER -> [0. 0. 0. 1. 0. 0. 0. 0.]  > - < DECODER -> [0, 0, 0, 1, 0, 0, 0, 0]\n",
      "ENCODER -> [0. 0. 0. 0. 1. 0. 0. 0.]  > - < DECODER -> [0, 0, 0, 0, 1, 0, 0, 0]\n",
      "ENCODER -> [0. 0. 0. 0. 0. 1. 0. 0.]  > - < DECODER -> [0, 0, 0, 0, 0, 1, 0, 0]\n",
      "ENCODER -> [0. 0. 0. 0. 0. 0. 1. 0.]  > - < DECODER -> [0, 0, 0, 0, 0, 0, 1, 0]\n",
      "ENCODER -> [0. 0. 0. 0. 0. 0. 0. 1.]  > - < DECODER -> [0, 0, 0, 0, 0, 0, 0, 1]\n"
     ]
    }
   ],
   "source": [
    "# teste Id(8x8)\n",
    "\n",
    "print(\"# Predição do encoder\\n\")\n",
    "for i in range(len(iden_8)):\n",
    "  pred, pred_proba = mlp.classify(iden_8[i]) # classifica linha da matrix\n",
    "  print(\"ENCODER -> {}  > - < DECODER -> {}\".format(iden_8[i], pred)) # imprime resultado do decoder\n"
   ]
  },
  {
   "cell_type": "code",
   "execution_count": 13,
   "metadata": {},
   "outputs": [
    {
     "data": {
      "text/plain": [
       "(15, 15)"
      ]
     },
     "execution_count": 13,
     "metadata": {},
     "output_type": "execute_result"
    }
   ],
   "source": [
    "# b) Id(15x15)\n",
    "\n",
    "iden = np.identity(15) # matriz identidade\n",
    "iden\n",
    "iden.shape"
   ]
  },
  {
   "cell_type": "code",
   "execution_count": 14,
   "metadata": {},
   "outputs": [],
   "source": [
    "# hyperparametros\n",
    "\n",
    "input_shape = iden.shape[0] # camada de entrada\n",
    "l_rate = 0.5 # taxa de aprendizado\n",
    "epochs = 3000 # quantidade de epocas\n",
    "output_shape = input_shape # shape de saida\n",
    "\n",
    "N_fist_camada = math.ceil(math.log(input_shape, 2)) # quantidade de neuronios da hidden Log2N\n"
   ]
  },
  {
   "cell_type": "code",
   "execution_count": 15,
   "metadata": {},
   "outputs": [],
   "source": [
    "# instanciando objeto da classe\n",
    "\n",
    "mlp = MultilayerPerceptron() # instancia\n",
    "mlp.DenseLayer(N_fist_camada, input_shape) # primeira camada com Log2N neuronios e entrada de N\n",
    "mlp.DenseLayer(output_shape) # camada de saida\n"
   ]
  },
  {
   "cell_type": "code",
   "execution_count": 16,
   "metadata": {},
   "outputs": [],
   "source": [
    "# treinamento Id(15x15)\n",
    "\n",
    "mlp.fit(iden, iden, l_rate, epochs) # treinamento"
   ]
  },
  {
   "cell_type": "code",
   "execution_count": 17,
   "metadata": {},
   "outputs": [
    {
     "name": "stdout",
     "output_type": "stream",
     "text": [
      "# Predição do encoder\n",
      "\n",
      "ENCODER -> [1. 0. 0. 0. 0. 0. 0. 0. 0. 0. 0. 0. 0. 0. 0.]  > - < DECODER -> [1, 0, 0, 0, 0, 0, 0, 0, 0, 0, 0, 0, 0, 0, 0]\n",
      "ENCODER -> [0. 1. 0. 0. 0. 0. 0. 0. 0. 0. 0. 0. 0. 0. 0.]  > - < DECODER -> [0, 1, 0, 0, 0, 0, 0, 0, 0, 0, 0, 0, 0, 0, 0]\n",
      "ENCODER -> [0. 0. 1. 0. 0. 0. 0. 0. 0. 0. 0. 0. 0. 0. 0.]  > - < DECODER -> [0, 0, 1, 0, 0, 0, 0, 0, 0, 0, 0, 0, 0, 0, 0]\n",
      "ENCODER -> [0. 0. 0. 1. 0. 0. 0. 0. 0. 0. 0. 0. 0. 0. 0.]  > - < DECODER -> [0, 0, 0, 1, 0, 0, 0, 0, 0, 0, 0, 0, 0, 0, 0]\n",
      "ENCODER -> [0. 0. 0. 0. 1. 0. 0. 0. 0. 0. 0. 0. 0. 0. 0.]  > - < DECODER -> [0, 0, 0, 0, 1, 0, 0, 0, 0, 0, 0, 0, 0, 0, 0]\n",
      "ENCODER -> [0. 0. 0. 0. 0. 1. 0. 0. 0. 0. 0. 0. 0. 0. 0.]  > - < DECODER -> [0, 0, 0, 0, 0, 1, 0, 0, 0, 0, 0, 0, 0, 0, 0]\n",
      "ENCODER -> [0. 0. 0. 0. 0. 0. 1. 0. 0. 0. 0. 0. 0. 0. 0.]  > - < DECODER -> [0, 0, 0, 0, 0, 0, 1, 0, 0, 0, 0, 0, 0, 0, 0]\n",
      "ENCODER -> [0. 0. 0. 0. 0. 0. 0. 1. 0. 0. 0. 0. 0. 0. 0.]  > - < DECODER -> [0, 0, 0, 0, 0, 0, 0, 1, 0, 0, 0, 0, 0, 0, 0]\n",
      "ENCODER -> [0. 0. 0. 0. 0. 0. 0. 0. 1. 0. 0. 0. 0. 0. 0.]  > - < DECODER -> [0, 0, 0, 0, 0, 0, 0, 0, 1, 0, 0, 0, 0, 0, 0]\n",
      "ENCODER -> [0. 0. 0. 0. 0. 0. 0. 0. 0. 1. 0. 0. 0. 0. 0.]  > - < DECODER -> [0, 0, 0, 0, 0, 0, 0, 0, 0, 1, 0, 0, 0, 0, 0]\n",
      "ENCODER -> [0. 0. 0. 0. 0. 0. 0. 0. 0. 0. 1. 0. 0. 0. 0.]  > - < DECODER -> [0, 0, 0, 0, 0, 0, 0, 0, 0, 0, 1, 0, 0, 0, 0]\n",
      "ENCODER -> [0. 0. 0. 0. 0. 0. 0. 0. 0. 0. 0. 1. 0. 0. 0.]  > - < DECODER -> [0, 0, 0, 0, 0, 0, 0, 0, 0, 0, 0, 1, 0, 0, 0]\n",
      "ENCODER -> [0. 0. 0. 0. 0. 0. 0. 0. 0. 0. 0. 0. 1. 0. 0.]  > - < DECODER -> [0, 0, 0, 0, 0, 0, 0, 0, 0, 0, 0, 0, 1, 0, 0]\n",
      "ENCODER -> [0. 0. 0. 0. 0. 0. 0. 0. 0. 0. 0. 0. 0. 1. 0.]  > - < DECODER -> [0, 0, 0, 0, 0, 0, 0, 0, 0, 0, 0, 0, 0, 1, 0]\n",
      "ENCODER -> [0. 0. 0. 0. 0. 0. 0. 0. 0. 0. 0. 0. 0. 0. 1.]  > - < DECODER -> [0, 0, 0, 0, 0, 0, 0, 0, 0, 0, 0, 0, 0, 0, 1]\n"
     ]
    }
   ],
   "source": [
    "# teste Id(15x15)\n",
    "\n",
    "print(\"# Predição do encoder\\n\")\n",
    "for i in range(len(iden)):\n",
    "  pred, pred_proba = mlp.classify(iden[i]) # classifica linha da matrix\n",
    "  print(\"ENCODER -> {}  > - < DECODER -> {}\".format(iden[i], pred)) # imprime resultado do decoder\n"
   ]
  },
  {
   "cell_type": "code",
   "execution_count": null,
   "metadata": {},
   "outputs": [],
   "source": []
  }
 ],
 "metadata": {
  "colab": {
   "collapsed_sections": [],
   "name": "Backpropagation XOR.ipynb",
   "provenance": []
  },
  "kernelspec": {
   "display_name": "Python 3 (ipykernel)",
   "language": "python",
   "name": "python3"
  },
  "language_info": {
   "codemirror_mode": {
    "name": "ipython",
    "version": 3
   },
   "file_extension": ".py",
   "mimetype": "text/x-python",
   "name": "python",
   "nbconvert_exporter": "python",
   "pygments_lexer": "ipython3",
   "version": "3.9.13"
  }
 },
 "nbformat": 4,
 "nbformat_minor": 4
}
