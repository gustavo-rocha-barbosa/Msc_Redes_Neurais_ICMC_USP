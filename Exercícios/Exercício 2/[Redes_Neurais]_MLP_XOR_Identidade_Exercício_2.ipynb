{
  "nbformat": 4,
  "nbformat_minor": 0,
  "metadata": {
    "colab": {
      "provenance": []
    },
    "kernelspec": {
      "name": "python3",
      "display_name": "Python 3"
    },
    "language_info": {
      "name": "python"
    }
  },
  "cells": [
    {
      "cell_type": "code",
      "execution_count": 1,
      "metadata": {
        "id": "WOMkyq0Rk31C"
      },
      "outputs": [],
      "source": [
        "import numpy as np\n",
        "import tensorflow as tf\n",
        "from tensorflow.keras.models import Sequential\n",
        "from tensorflow.keras.layers import Dense"
      ]
    },
    {
      "cell_type": "code",
      "source": [
        "#Problema do XOR:\n",
        "\n",
        "#Dados de treinamento para o problema XOR:\n",
        "X_xor = np.array([[0, 0], [0, 1], [1, 0], [1, 1]])\n",
        "y_xor = np.array([[0], [1], [1], [0]])\n",
        "\n",
        "#Construindo o modelo com função Sigmoid e ReLu:\n",
        "model_xor = Sequential([Dense(2, input_dim=2, activation='sigmoid'), Dense(1, activation='relu')]) # Camada intermediária com 2 neurônios e camada de saída com 1 neurônio\n",
        "\n",
        "#Compilando o modelo:\n",
        "model_xor.compile(optimizer='adam', loss='mean_squared_error')\n",
        "\n",
        "#Treinando o modelo:\n",
        "model_xor.fit(X_xor, y_xor, epochs=5000, verbose=0) #5000 épocas\n",
        "\n",
        "#Testando o modelo:\n",
        "outputs_xor = model_xor.predict(X_xor)\n",
        "print(\"Resultados para o problema XOR:\")\n",
        "print(np.round(outputs_xor, decimals=4))"
      ],
      "metadata": {
        "colab": {
          "base_uri": "https://localhost:8080/"
        },
        "id": "Xr7ZgeeL-MV-",
        "outputId": "553bd00a-25a1-48e6-a842-c38b3261b05d"
      },
      "execution_count": 8,
      "outputs": [
        {
          "output_type": "stream",
          "name": "stderr",
          "text": [
            "WARNING:tensorflow:5 out of the last 5 calls to <function TensorFlowTrainer.make_predict_function.<locals>.one_step_on_data_distributed at 0x7d72e5005870> triggered tf.function retracing. Tracing is expensive and the excessive number of tracings could be due to (1) creating @tf.function repeatedly in a loop, (2) passing tensors with different shapes, (3) passing Python objects instead of tensors. For (1), please define your @tf.function outside of the loop. For (2), @tf.function has reduce_retracing=True option that can avoid unnecessary retracing. For (3), please refer to https://www.tensorflow.org/guide/function#controlling_retracing and https://www.tensorflow.org/api_docs/python/tf/function for  more details.\n"
          ]
        },
        {
          "output_type": "stream",
          "name": "stdout",
          "text": [
            "\u001b[1m1/1\u001b[0m \u001b[32m━━━━━━━━━━━━━━━━━━━━\u001b[0m\u001b[37m\u001b[0m \u001b[1m0s\u001b[0m 54ms/step\n",
            "Resultados para o problema XOR:\n",
            "[[0.0023]\n",
            " [0.9969]\n",
            " [0.997 ]\n",
            " [0.0041]]\n"
          ]
        }
      ]
    },
    {
      "cell_type": "code",
      "source": [
        "#Problema Matriz Identidade:\n",
        "\n",
        "def mapeamento_identidade(dimensao_matriz_identidade):\n",
        "\n",
        "  # Matriz Identidade:\n",
        "  input_size = dimensao_matriz_identidade\n",
        "  hidden_size = int(np.log2(input_size))  # Quantidade de Neurônios intermediária\n",
        "  output_size = input_size\n",
        "  X = np.eye(input_size)\n",
        "\n",
        "  # Construindo o modelo:\n",
        "  model_autoencoder = Sequential([\n",
        "      Dense(hidden_size, input_dim=input_size, activation='sigmoid'),  # Camada oculta - Função sigmoid\n",
        "      Dense(output_size, activation='sigmoid')  # Camada de saída - Função sigmoid\n",
        "  ])\n",
        "\n",
        "  # Compilando o modelo:\n",
        "  model_autoencoder.compile(optimizer='adam', loss='mean_squared_error')\n",
        "\n",
        "  # Treinando o modelo\n",
        "  model_autoencoder.fit(X, X, epochs=5000, verbose=0) #5000 épocas\n",
        "\n",
        "  # Testando o modelo\n",
        "  outputs = model_autoencoder.predict(X)\n",
        "  print(f\"\\nMapeamento identidade {input_size}x{output_size} concluído.\")\n",
        "  return outputs"
      ],
      "metadata": {
        "id": "giyEHvi21_Zc"
      },
      "execution_count": 3,
      "outputs": []
    },
    {
      "cell_type": "code",
      "source": [
        "matriz = mapeamento_identidade(8) #Matriz 8x8:\n",
        "print(np.round(matriz,3))"
      ],
      "metadata": {
        "colab": {
          "base_uri": "https://localhost:8080/"
        },
        "id": "dcYS4A1E2YAf",
        "outputId": "2f2a2bc1-9f37-45f7-ce11-758c030d6f34"
      },
      "execution_count": 4,
      "outputs": [
        {
          "output_type": "stream",
          "name": "stdout",
          "text": [
            "\u001b[1m1/1\u001b[0m \u001b[32m━━━━━━━━━━━━━━━━━━━━\u001b[0m\u001b[37m\u001b[0m \u001b[1m0s\u001b[0m 48ms/step\n",
            "\n",
            "Mapeamento identidade 8x8 concluído.\n",
            "[[0.13  0.075 0.081 0.128 0.131 0.062 0.134 0.094]\n",
            " [0.114 0.771 0.093 0.178 0.023 0.001 0.138 0.133]\n",
            " [0.165 0.155 0.803 0.122 0.282 0.03  0.181 0.015]\n",
            " [0.123 0.13  0.041 0.141 0.075 0.038 0.128 0.154]\n",
            " [0.117 0.004 0.1   0.065 0.595 0.112 0.113 0.012]\n",
            " [0.151 0.005 0.033 0.117 0.265 0.796 0.132 0.192]\n",
            " [0.125 0.095 0.083 0.124 0.128 0.033 0.131 0.076]\n",
            " [0.104 0.09  0.001 0.176 0.019 0.134 0.101 0.723]]\n"
          ]
        }
      ]
    },
    {
      "cell_type": "code",
      "source": [
        "matriz_2 = mapeamento_identidade(15) #Matriz 15x15:\n",
        "print(np.round(matriz_2,3))"
      ],
      "metadata": {
        "colab": {
          "base_uri": "https://localhost:8080/"
        },
        "id": "K-VQQR3V6rSc",
        "outputId": "287c237c-a364-45da-abf8-b4a863fb0d44"
      },
      "execution_count": 5,
      "outputs": [
        {
          "output_type": "stream",
          "name": "stdout",
          "text": [
            "\u001b[1m1/1\u001b[0m \u001b[32m━━━━━━━━━━━━━━━━━━━━\u001b[0m\u001b[37m\u001b[0m \u001b[1m0s\u001b[0m 71ms/step\n",
            "\n",
            "Mapeamento identidade 15x15 concluído.\n",
            "[[0.054 0.048 0.046 0.048 0.054 0.072 0.1   0.055 0.056 0.059 0.08  0.055\n",
            "  0.046 0.066 0.049]\n",
            " [0.047 0.044 0.041 0.055 0.047 0.059 0.087 0.053 0.051 0.055 0.056 0.048\n",
            "  0.043 0.073 0.046]\n",
            " [0.053 0.048 0.046 0.052 0.053 0.071 0.094 0.057 0.056 0.059 0.074 0.055\n",
            "  0.047 0.074 0.05 ]\n",
            " [0.104 0.119 0.105 0.609 0.091 0.064 0.25  0.144 0.105 0.167 0.027 0.084\n",
            "  0.122 0.218 0.135]\n",
            " [0.053 0.046 0.046 0.035 0.055 0.081 0.087 0.055 0.055 0.054 0.1   0.058\n",
            "  0.045 0.067 0.047]\n",
            " [0.078 0.065 0.072 0.023 0.088 0.19  0.069 0.088 0.078 0.062 0.292 0.112\n",
            "  0.065 0.121 0.063]\n",
            " [0.1   0.087 0.092 0.188 0.094 0.076 0.401 0.065 0.091 0.131 0.088 0.07\n",
            "  0.08  0.035 0.093]\n",
            " [0.054 0.055 0.05  0.077 0.055 0.084 0.053 0.089 0.06  0.06  0.064 0.068\n",
            "  0.057 0.193 0.058]\n",
            " [0.05  0.046 0.043 0.047 0.05  0.07  0.078 0.058 0.053 0.055 0.071 0.054\n",
            "  0.045 0.082 0.047]\n",
            " [0.056 0.053 0.049 0.104 0.053 0.053 0.144 0.057 0.058 0.073 0.046 0.048\n",
            "  0.051 0.063 0.056]\n",
            " [0.088 0.064 0.08  0.009 0.105 0.266 0.084 0.074 0.083 0.058 0.534 0.131\n",
            "  0.062 0.068 0.06 ]\n",
            " [0.057 0.051 0.051 0.033 0.061 0.108 0.064 0.071 0.061 0.055 0.129 0.073\n",
            "  0.051 0.11  0.052]\n",
            " [0.048 0.046 0.042 0.056 0.049 0.064 0.079 0.058 0.052 0.056 0.059 0.051\n",
            "  0.045 0.087 0.048]\n",
            " [0.062 0.073 0.062 0.153 0.063 0.108 0.03  0.162 0.072 0.069 0.055 0.097\n",
            "  0.081 0.504 0.077]\n",
            " [0.052 0.049 0.045 0.072 0.051 0.061 0.097 0.059 0.055 0.062 0.055 0.051\n",
            "  0.048 0.081 0.052]]\n"
          ]
        }
      ]
    }
  ]
}