{
  "nbformat": 4,
  "nbformat_minor": 0,
  "metadata": {
    "colab": {
      "provenance": []
    },
    "kernelspec": {
      "name": "python3",
      "display_name": "Python 3"
    },
    "language_info": {
      "name": "python"
    }
  },
  "cells": [
    {
      "cell_type": "code",
      "source": [
        "import numpy as np\n",
        "import random"
      ],
      "metadata": {
        "id": "jtf3-raEvUjO"
      },
      "execution_count": 25,
      "outputs": []
    },
    {
      "cell_type": "code",
      "execution_count": 26,
      "metadata": {
        "id": "Irkx8f0cmQNF"
      },
      "outputs": [],
      "source": [
        "# Entradas dos \"Y's\" normais original(entrada_1) e com ruídos ----> Saída (-1) - Conjunto de Treino:\n",
        "\n",
        "entrada_1 =np.array([[+1, -1, -1, -1, +1],\n",
        "            [+1, -1, -1, -1, +1],\n",
        "            [-1, +1, +1, +1, -1],\n",
        "            [-1, -1, +1, -1, -1],\n",
        "            [-1, -1, +1, -1, -1]])\n",
        "\n",
        "entrada_2 = np.array([[+1, -1, -1, -1, +1],\n",
        "             [+1, +1, -1, -1, +1],\n",
        "             [-1, +1, +1, +1, -1],\n",
        "             [-1, -1, +1, -1, -1],\n",
        "             [-1, -1, +1, -1, -1]])\n",
        "\n",
        "entrada_3 = np.array([[+1, -1, -1, -1, +1],\n",
        "             [+1, -1, +1, -1, +1],\n",
        "             [-1, +1, +1, +1, -1],\n",
        "             [-1, -1, +1, -1, -1],\n",
        "             [-1, -1, +1, -1, -1]])\n",
        "\n",
        "entrada_4 = np.array([[+1, -1, -1, -1, +1],\n",
        "             [+1, -1, -1, +1, +1],\n",
        "             [-1, +1, +1, +1, -1],\n",
        "             [-1, -1, +1, -1, -1],\n",
        "             [-1, -1, +1, -1, -1]])\n",
        "\n",
        "entrada_5 = np.array([[+1, -1, -1, -1, +1],\n",
        "             [+1, -1, -1, -1, +1],\n",
        "             [-1, +1, +1, +1, -1],\n",
        "             [-1, -1, +1, +1, -1],\n",
        "             [-1, -1, +1, -1, -1]])\n",
        "\n",
        "entrada_6 = np.array([[+1, -1, -1, -1, +1],\n",
        "             [+1, -1, -1, -1, +1],\n",
        "             [-1, +1, +1, +1, -1],\n",
        "             [-1, -1, +1, -1, +1],\n",
        "             [-1, -1, +1, -1, -1]])"
      ]
    },
    {
      "cell_type": "code",
      "source": [
        "# Entradas dos \"Y's\" invertidos original(entrada_7) e com ruídos ----> Saída (+1) - Conjunto de Treino:\n",
        "\n",
        "entrada_7 = np.array([[-1, -1, +1, -1, -1],\n",
        "             [-1, -1, +1, -1, -1],\n",
        "             [-1, +1, +1, +1, -1],\n",
        "             [+1, -1, -1, -1, +1],\n",
        "             [+1, -1, -1, -1, +1]])\n",
        "\n",
        "entrada_8 = np.array([[+1, -1, +1, -1, -1],\n",
        "             [+1, -1, +1, -1, -1],\n",
        "             [-1, +1, +1, +1, -1],\n",
        "             [+1, -1, -1, -1, +1],\n",
        "             [+1, -1, -1, -1, +1]])\n",
        "\n",
        "entrada_9 = np.array([[-1, -1, +1, -1, -1],\n",
        "             [-1, -1, +1, -1, +1],\n",
        "             [-1, +1, +1, +1, -1],\n",
        "             [+1, -1, -1, -1, +1],\n",
        "             [+1, -1, -1, -1, +1]])\n",
        "\n",
        "entrada_10 = np.array([[-1, -1, +1, -1, -1],\n",
        "             [-1, -1, +1, -1, -1],\n",
        "             [-1, +1, +1, +1, -1],\n",
        "             [+1, +1, -1, +1, +1],\n",
        "             [+1, -1, -1, -1, +1]])\n",
        "\n",
        "entrada_11 = np.array([[-1, -1, +1, -1, -1],\n",
        "             [-1, -1, +1, -1, -1],\n",
        "             [+1, +1, +1, +1, -1],\n",
        "             [+1, -1, -1, -1, +1],\n",
        "             [+1, -1, -1, -1, +1]])\n",
        "\n",
        "entrada_12 = np.array([[-1, -1, +1, -1, -1],\n",
        "             [-1, -1, +1, -1, -1],\n",
        "             [-1, +1, +1, +1, -1],\n",
        "             [+1, +1, -1, -1, +1],\n",
        "             [+1, -1, -1, +1, +1]])"
      ],
      "metadata": {
        "id": "TzkIkg6Yokg9"
      },
      "execution_count": 27,
      "outputs": []
    },
    {
      "cell_type": "code",
      "source": [
        "# Testes pós treinamento:\n",
        "\n",
        "entrada_13 = np.array( [[-1, -1, +1, -1, -1],\n",
        "                        [-1, -1, +1, -1, -1],\n",
        "                        [+1, +1, +1, +1, -1],\n",
        "                        [+1, +1, -1, +1, -1],\n",
        "                        [-1, +1, +1, -1, +1]])\n",
        "\n",
        "entrada_14 = np.array( [[+1, -1, +1, -1, +1],\n",
        "                        [-1, +1, -1, +1, -1],\n",
        "                        [-1, +1, +1, +1, -1],\n",
        "                        [-1, -1, +1, -1, -1],\n",
        "                        [-1, -1, +1, -1, +1]])\n",
        "\n",
        "entrada_15 = np.array( [[+1, -1, +1, -1, +1],\n",
        "                        [-1, +1, +1, +1, -1],\n",
        "                        [-1, +1, +1, +1, -1],\n",
        "                        [-1, -1, +1, -1, -1],\n",
        "                        [-1, -1, -1, -1, -1]])\n",
        "\n",
        "entrada_16 = np.array( [[-1, -1, -1, -1, -1],\n",
        "                        [-1, -1, +1, -1, -1],\n",
        "                        [+1, +1, +1, +1, -1],\n",
        "                        [+1, +1, -1, +1, -1],\n",
        "                        [+1, +1, -1, -1, +1]])\n",
        "\n",
        "entrada_17 = np.array( [[-1, -1, -1, -1, -1],\n",
        "                        [-1, -1, +1, -1, -1],\n",
        "                        [-1, -1, +1, -1, -1],\n",
        "                        [-1, +1, -1, +1, -1],\n",
        "                        [-1, -1, -1, -1, -1]])\n",
        "\n",
        "entrada_18 = np.array( [[-1, -1, -1, -1, -1],\n",
        "                        [-1, +1, -1, +1, -1],\n",
        "                        [-1, -1, +1, -1, -1],\n",
        "                        [-1, -1, +1, -1, -1],\n",
        "                        [-1, -1, -1, -1, -1]])\n",
        "\n",
        "\n",
        "entrada_19 = np.array( [[+1, -1, -1, +1, +1],\n",
        "                        [-1, +1, +1, +1, -1],\n",
        "                        [-1, -1, +1, -1, -1],\n",
        "                        [-1, -1, +1, -1, -1],\n",
        "                        [-1, -1, +1, -1, -1]])"
      ],
      "metadata": {
        "id": "KIH41hA6yQCF"
      },
      "execution_count": 28,
      "outputs": []
    },
    {
      "cell_type": "markdown",
      "source": [
        "### Adaline com Classes:"
      ],
      "metadata": {
        "id": "EPmlxU9i3u_K"
      }
    },
    {
      "cell_type": "code",
      "source": [
        "class AdalineY:\n",
        "\n",
        "  '''\n",
        "\n",
        "  Adaline: ADAptive LInear NEuron classifier\n",
        "\n",
        "  Originalmente feita para treinar um modelo para o reconhecimento de imagem em\n",
        "  uma matriz de -1 e +1. Os rótulos -1 são para valores de imagens corretas\n",
        "  (no caso inicial um \"Y\") e rótulos +1 para valores de imagens invertidas, no\n",
        "  presente caso um \"Y\" invertido. As matrizes de entradas devem ser de 5x5, bem\n",
        "  como as matrizes de teste.\n",
        "  ------------------------------------------------------------------------------\n",
        "  Funções:\n",
        "\n",
        "  _peso: Calcula a matriz inicial de peso em um range aleatório;\n",
        "\n",
        "  _treino: Treina uma única vez o modelo Adaline:\n",
        "    peso_final = peso_inicial + eta*(t-s)*entrada_inicial\n",
        "\n",
        "  _teste: Testa valores de entradas com base na matriz de peso atualizada\n",
        "    na função _treino.\n",
        "\n",
        "  Parâmetros:\n",
        "\n",
        "    _peso(dimensao_matriz=5, intervalo_peso=0.5):\n",
        "\n",
        "      dimensao_matriz: int\n",
        "      intervalo_peso: float\n",
        "\n",
        "    _treino(peso='', vetor_entrada='', targets='', eta=0.1):\n",
        "\n",
        "      peso: 2D-Array\n",
        "      vetor_entrada: 3D-Array\n",
        "      targets: 1D-Array\n",
        "      eta: float\n",
        "\n",
        "    _teste(entrada='', peso=''):\n",
        "\n",
        "      entrada: 2D-Array\n",
        "      peso: 2D-Array\n",
        "\n",
        "  '''\n",
        "\n",
        "  def __init__(self):\n",
        "    print(\"Incialização Adaline\")\n",
        "\n",
        "  def _peso(self, dimensao_matriz=5, intervalo_peso=0.5):\n",
        "\n",
        "    self.dimensao_matriz = dimensao_matriz\n",
        "    self.intervalo_peso = intervalo_peso\n",
        "\n",
        "    w1 = []\n",
        "    w = []\n",
        "    for i in range(dimensao_matriz+1):\n",
        "      w.append(w1)\n",
        "      w1 = []\n",
        "      for j in range(dimensao_matriz):\n",
        "        numero_aleatorio = random.uniform(-intervalo_peso, intervalo_peso)\n",
        "        w1.append(numero_aleatorio)\n",
        "\n",
        "    w = w[1:]\n",
        "    print(f\"Inicialização dos Pesos (Matriz de Pesos aleatórios iniciada) no intervalo: [{-intervalo_peso},{intervalo_peso}]\")\n",
        "    return w\n",
        "\n",
        "  def _treino(self, peso='', vetor_entrada='', targets='', eta=0.1):\n",
        "    self.peso = peso\n",
        "    self.vetor_entrada = vetor_entrada\n",
        "    self.targets = targets\n",
        "    self.eta = eta\n",
        "\n",
        "    n_entrada = len(vetor_entrada)\n",
        "    n = eta*n_entrada\n",
        "    x = 0\n",
        "    ciclo = 0\n",
        "    fs = []\n",
        "\n",
        "    for k in range(len(vetor_entrada)):\n",
        "      x = 0\n",
        "      for i in range(len(vetor_entrada[k])-1):\n",
        "        for j in range(len(vetor_entrada[k])-1):\n",
        "          x += vetor_entrada[k][i][j]*peso[i][j]\n",
        "\n",
        "      if x < 0:\n",
        "        f = -1\n",
        "      else:\n",
        "        f = 1\n",
        "\n",
        "      fs.append(f)\n",
        "\n",
        "    print(f\"Targets de Treinamento: {fs}\")\n",
        "    for k in range(len(targets)):\n",
        "      for i in range(len(vetor_entrada[k])-1):\n",
        "        for j in range(len(vetor_entrada[k])-1):\n",
        "          peso[i][j] = peso[i][j] + n*(targets[k]-fs[k])*vetor_entrada[k][i][j]\n",
        "\n",
        "    print(f\"Matriz de pesos atualizada: {peso}\")\n",
        "\n",
        "    return peso, fs\n",
        "\n",
        "  def _teste(self, entrada='', peso=''):\n",
        "    x = 0\n",
        "    for i in range(len(entrada)):\n",
        "      for j in range(len(entrada[i])):\n",
        "        x += entrada[i][j]*peso[i][j]\n",
        "\n",
        "    if x < 0:\n",
        "      f = -1\n",
        "    else:\n",
        "      f = 1\n",
        "\n",
        "    if f == -1:\n",
        "      resultado = 'Y'\n",
        "    else:\n",
        "      resultado = 'Y Invertido'\n",
        "\n",
        "    print(f\"Rótulo: {f} | Resultado: {resultado}\")\n",
        "\n",
        "    return f, resultado"
      ],
      "metadata": {
        "id": "pBHdTGJ6kxe1"
      },
      "execution_count": 29,
      "outputs": []
    },
    {
      "cell_type": "code",
      "source": [
        "vetor_entrada = [entrada_1, entrada_2, entrada_3, entrada_4, entrada_5, entrada_6, entrada_7, entrada_8, entrada_9, entrada_10, entrada_11, entrada_12]\n",
        "targets = [-1, -1, -1, -1, -1, -1, 1, 1, 1, 1, 1, 1]"
      ],
      "metadata": {
        "id": "HsllcL5y2Ljo"
      },
      "execution_count": 30,
      "outputs": []
    },
    {
      "cell_type": "code",
      "source": [
        "print(AdalineY.__doc__)"
      ],
      "metadata": {
        "colab": {
          "base_uri": "https://localhost:8080/"
        },
        "id": "F5vQgh7awL4h",
        "outputId": "c627ff30-5d42-49dc-d764-93825e9647c6"
      },
      "execution_count": 31,
      "outputs": [
        {
          "output_type": "stream",
          "name": "stdout",
          "text": [
            "\n",
            "  \n",
            "  Adaline: ADAptive LInear NEuron classifier\n",
            "\n",
            "  Originalmente feita para treinar um modelo para o reconhecimento de imagem em \n",
            "  uma matriz de -1 e +1. Os rótulos -1 são para valores de imagens corretas \n",
            "  (no caso inicial um \"Y\") e rótulos +1 para valores de imagens invertidas, no \n",
            "  presente caso um \"Y\" invertido. As matrizes de entradas devem ser de 5x5, bem \n",
            "  como as matrizes de teste.\n",
            "  ------------------------------------------------------------------------------\n",
            "  Funções:\n",
            "\n",
            "  _peso: Calcula a matriz inicial de peso em um range aleatório;\n",
            "\n",
            "  _treino: Treina uma única vez o modelo Adaline: \n",
            "    peso_final = peso_inicial + eta*(t-s)*entrada_inicial\n",
            "\n",
            "  _teste: Testa valores de entradas com base na matriz de peso atualizada \n",
            "    na função _treino.\n",
            "\n",
            "  Parâmetros:\n",
            "\n",
            "    _peso(dimensao_matriz=5, intervalo_peso=0.5):\n",
            "\n",
            "      dimensao_matriz: int\n",
            "      intervalo_peso: float\n",
            "\n",
            "    _treino(peso='', vetor_entrada='', targets='', eta=0.1):\n",
            "\n",
            "      peso: 2D-Array\n",
            "      vetor_entrada: 3D-Array\n",
            "      targets: 1D-Array\n",
            "      eta: float\n",
            "\n",
            "    _teste(entrada='', peso=''):\n",
            "\n",
            "      entrada: 2D-Array\n",
            "      peso: 2D-Array\n",
            "\n",
            "  \n"
          ]
        }
      ]
    },
    {
      "cell_type": "code",
      "source": [
        "adaline = AdalineY()"
      ],
      "metadata": {
        "colab": {
          "base_uri": "https://localhost:8080/"
        },
        "id": "xIogCm2qby2E",
        "outputId": "9fd7e5bf-1ebe-4f0c-eaae-9466e2b5a630"
      },
      "execution_count": 32,
      "outputs": [
        {
          "output_type": "stream",
          "name": "stdout",
          "text": [
            "Incialização Adaline\n"
          ]
        }
      ]
    },
    {
      "cell_type": "code",
      "source": [
        "peso = adaline._peso()"
      ],
      "metadata": {
        "colab": {
          "base_uri": "https://localhost:8080/"
        },
        "id": "sr6xGBLC0Ik_",
        "outputId": "c9b6bee9-6798-4726-bb33-cedc360509ef"
      },
      "execution_count": 33,
      "outputs": [
        {
          "output_type": "stream",
          "name": "stdout",
          "text": [
            "Inicialização dos Pesos (Matriz de Pesos aleatórios iniciada) no intervalo: [-0.5,0.5]\n"
          ]
        }
      ]
    },
    {
      "cell_type": "code",
      "source": [
        "#Treinamento:\n",
        "ciclo = 0\n",
        "treino =''\n",
        "while treino != targets:\n",
        "  ciclo += 1\n",
        "  print(f'Ciclo: {ciclo}')\n",
        "  treino, peso = adaline._treino(peso=peso, vetor_entrada=vetor_entrada, targets=targets)[1], adaline._treino(peso=peso, vetor_entrada=vetor_entrada, targets=targets)[0]"
      ],
      "metadata": {
        "colab": {
          "base_uri": "https://localhost:8080/"
        },
        "id": "zKd1-A7s5Xtp",
        "outputId": "447c754e-d894-41b4-d14f-f6cb32d740ee"
      },
      "execution_count": 34,
      "outputs": [
        {
          "output_type": "stream",
          "name": "stdout",
          "text": [
            "Ciclo: 1\n",
            "Targets de Treinamento: [-1, 1, 1, -1, 1, -1, -1, 1, -1, 1, -1, -1]\n",
            "Matriz de pesos atualizada: [[-16.632752430100425, -2.17563430891576, 16.31138628714499, -2.3209346706531235, -0.4470855495689683], [-16.548333653449447, -6.716412793626425, 12.014322783981958, -2.800832725820886, -0.4941698600125155], [2.2005783138164476, 2.582260480910966, 2.441770072630007, 2.8148708634315893, 0.4054160417338014], [17.14103720799592, 2.789814718862523, -16.961010520774337, -6.735228261618122, -0.03025303670031254], [0.007081223019989924, -0.4995096850423627, 0.10943833079871801, 0.38155988715806477, 0.40285916781480646]]\n",
            "Targets de Treinamento: [-1, -1, -1, -1, -1, -1, 1, 1, 1, 1, 1, 1]\n",
            "Matriz de pesos atualizada: [[-16.632752430100425, -2.17563430891576, 16.31138628714499, -2.3209346706531235, -0.4470855495689683], [-16.548333653449447, -6.716412793626425, 12.014322783981958, -2.800832725820886, -0.4941698600125155], [2.2005783138164476, 2.582260480910966, 2.441770072630007, 2.8148708634315893, 0.4054160417338014], [17.14103720799592, 2.789814718862523, -16.961010520774337, -6.735228261618122, -0.03025303670031254], [0.007081223019989924, -0.4995096850423627, 0.10943833079871801, 0.38155988715806477, 0.40285916781480646]]\n",
            "Ciclo: 2\n",
            "Targets de Treinamento: [-1, -1, -1, -1, -1, -1, 1, 1, 1, 1, 1, 1]\n",
            "Matriz de pesos atualizada: [[-16.632752430100425, -2.17563430891576, 16.31138628714499, -2.3209346706531235, -0.4470855495689683], [-16.548333653449447, -6.716412793626425, 12.014322783981958, -2.800832725820886, -0.4941698600125155], [2.2005783138164476, 2.582260480910966, 2.441770072630007, 2.8148708634315893, 0.4054160417338014], [17.14103720799592, 2.789814718862523, -16.961010520774337, -6.735228261618122, -0.03025303670031254], [0.007081223019989924, -0.4995096850423627, 0.10943833079871801, 0.38155988715806477, 0.40285916781480646]]\n",
            "Targets de Treinamento: [-1, -1, -1, -1, -1, -1, 1, 1, 1, 1, 1, 1]\n",
            "Matriz de pesos atualizada: [[-16.632752430100425, -2.17563430891576, 16.31138628714499, -2.3209346706531235, -0.4470855495689683], [-16.548333653449447, -6.716412793626425, 12.014322783981958, -2.800832725820886, -0.4941698600125155], [2.2005783138164476, 2.582260480910966, 2.441770072630007, 2.8148708634315893, 0.4054160417338014], [17.14103720799592, 2.789814718862523, -16.961010520774337, -6.735228261618122, -0.03025303670031254], [0.007081223019989924, -0.4995096850423627, 0.10943833079871801, 0.38155988715806477, 0.40285916781480646]]\n"
          ]
        }
      ]
    },
    {
      "cell_type": "code",
      "source": [
        "teste = adaline._teste(entrada=entrada_13, peso=peso)"
      ],
      "metadata": {
        "colab": {
          "base_uri": "https://localhost:8080/"
        },
        "id": "56IkYf0N-Izb",
        "outputId": "3b214523-dc17-4f7d-db6e-b01fcce253aa"
      },
      "execution_count": 35,
      "outputs": [
        {
          "output_type": "stream",
          "name": "stdout",
          "text": [
            "Rótulo: 1 | Resultado: Y Invertido\n"
          ]
        }
      ]
    },
    {
      "cell_type": "code",
      "source": [
        "teste = adaline._teste(entrada=entrada_14, peso=peso)"
      ],
      "metadata": {
        "colab": {
          "base_uri": "https://localhost:8080/"
        },
        "id": "cpAdkks5uCM4",
        "outputId": "f609dddc-74cc-4962-d5b2-c608cd4b379e"
      },
      "execution_count": 36,
      "outputs": [
        {
          "output_type": "stream",
          "name": "stdout",
          "text": [
            "Rótulo: -1 | Resultado: Y\n"
          ]
        }
      ]
    },
    {
      "cell_type": "code",
      "source": [
        "teste = adaline._teste(entrada=entrada_15, peso=peso)"
      ],
      "metadata": {
        "colab": {
          "base_uri": "https://localhost:8080/"
        },
        "id": "hpqnS2qMuCf4",
        "outputId": "b301be2e-3f31-4d57-87d2-c1425a764a3c"
      },
      "execution_count": 37,
      "outputs": [
        {
          "output_type": "stream",
          "name": "stdout",
          "text": [
            "Rótulo: -1 | Resultado: Y\n"
          ]
        }
      ]
    },
    {
      "cell_type": "code",
      "source": [
        "teste = adaline._teste(entrada=entrada_16, peso=peso)"
      ],
      "metadata": {
        "colab": {
          "base_uri": "https://localhost:8080/"
        },
        "id": "QSDwau5YuCjN",
        "outputId": "12eee47f-51cc-47ff-9da9-018ff11f2108"
      },
      "execution_count": 38,
      "outputs": [
        {
          "output_type": "stream",
          "name": "stdout",
          "text": [
            "Rótulo: 1 | Resultado: Y Invertido\n"
          ]
        }
      ]
    },
    {
      "cell_type": "code",
      "source": [
        "teste = adaline._teste(entrada=entrada_17, peso=peso)"
      ],
      "metadata": {
        "colab": {
          "base_uri": "https://localhost:8080/"
        },
        "id": "JbMBF-SquHvW",
        "outputId": "ca266471-e71a-46b9-af86-8d4913c554bf"
      },
      "execution_count": 39,
      "outputs": [
        {
          "output_type": "stream",
          "name": "stdout",
          "text": [
            "Rótulo: 1 | Resultado: Y Invertido\n"
          ]
        }
      ]
    },
    {
      "cell_type": "code",
      "source": [
        "teste = adaline._teste(entrada=entrada_18, peso=peso)"
      ],
      "metadata": {
        "colab": {
          "base_uri": "https://localhost:8080/"
        },
        "id": "7HGo_jBcuJn7",
        "outputId": "5ccb396d-1f5f-4662-e8e7-a9ed86e8f23f"
      },
      "execution_count": 40,
      "outputs": [
        {
          "output_type": "stream",
          "name": "stdout",
          "text": [
            "Rótulo: -1 | Resultado: Y\n"
          ]
        }
      ]
    },
    {
      "cell_type": "code",
      "source": [
        "teste = adaline._teste(entrada=entrada_19, peso=peso)"
      ],
      "metadata": {
        "colab": {
          "base_uri": "https://localhost:8080/"
        },
        "id": "om2n5lv6uLCx",
        "outputId": "7b99a171-4f07-4644-eafe-edc466269c0e"
      },
      "execution_count": 41,
      "outputs": [
        {
          "output_type": "stream",
          "name": "stdout",
          "text": [
            "Rótulo: -1 | Resultado: Y\n"
          ]
        }
      ]
    }
  ]
}