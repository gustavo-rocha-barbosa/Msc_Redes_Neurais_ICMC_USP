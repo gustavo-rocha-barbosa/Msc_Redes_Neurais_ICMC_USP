{
  "cells": [
    {
      "cell_type": "code",
      "execution_count": 264,
      "metadata": {
        "id": "jtf3-raEvUjO"
      },
      "outputs": [],
      "source": [
        "import numpy as np\n",
        "import random"
      ]
    },
    {
      "cell_type": "code",
      "execution_count": 265,
      "metadata": {
        "id": "Irkx8f0cmQNF"
      },
      "outputs": [],
      "source": [
        "# Entradas dos \"Y's\" normais original(entrada_1) e com ruídos ----> Saída (-1):\n",
        "\n",
        "entrada_1 =np.array([[+1, -1, -1, -1, +1],\n",
        "            [+1, -1, -1, -1, +1],\n",
        "            [-1, +1, +1, +1, -1],\n",
        "            [-1, -1, +1, -1, -1],\n",
        "            [-1, -1, +1, -1, -1]])\n",
        "\n",
        "entrada_2 = np.array([[+1, -1, -1, -1, +1],\n",
        "             [+1, +1, -1, -1, +1],\n",
        "             [-1, +1, +1, +1, -1],\n",
        "             [-1, -1, +1, -1, -1],\n",
        "             [-1, -1, +1, -1, -1]])\n",
        "\n",
        "entrada_3 = np.array([[+1, -1, -1, -1, +1],\n",
        "             [+1, -1, +1, -1, +1],\n",
        "             [-1, +1, +1, +1, -1],\n",
        "             [-1, -1, +1, -1, -1],\n",
        "             [-1, -1, +1, -1, -1]])\n",
        "\n",
        "entrada_4 = np.array([[+1, -1, -1, -1, +1],\n",
        "             [+1, -1, -1, +1, +1],\n",
        "             [-1, +1, +1, +1, -1],\n",
        "             [-1, -1, +1, -1, -1],\n",
        "             [-1, -1, +1, -1, -1]])\n",
        "\n",
        "entrada_5 = np.array([[+1, -1, -1, -1, +1],\n",
        "             [+1, -1, -1, -1, +1],\n",
        "             [-1, +1, +1, +1, -1],\n",
        "             [-1, -1, +1, +1, -1],\n",
        "             [-1, -1, +1, -1, -1]])\n",
        "\n",
        "entrada_6 = np.array([[+1, -1, -1, -1, +1],\n",
        "             [+1, -1, -1, -1, +1],\n",
        "             [-1, +1, +1, +1, -1],\n",
        "             [-1, -1, +1, -1, +1],\n",
        "             [-1, -1, +1, -1, -1]])"
      ]
    },
    {
      "cell_type": "code",
      "execution_count": 266,
      "metadata": {
        "id": "TzkIkg6Yokg9"
      },
      "outputs": [],
      "source": [
        "# Entradas dos \"Y's\" invertidos original(entrada_7) e com ruídos ----> Saída (+1):\n",
        "\n",
        "entrada_7 = np.array([[-1, -1, +1, -1, -1],\n",
        "             [-1, -1, +1, -1, -1],\n",
        "             [-1, +1, +1, +1, -1],\n",
        "             [+1, -1, -1, -1, +1],\n",
        "             [+1, -1, -1, -1, +1]])\n",
        "\n",
        "entrada_8 = np.array([[+1, -1, +1, -1, -1],\n",
        "             [+1, -1, +1, -1, -1],\n",
        "             [-1, +1, +1, +1, -1],\n",
        "             [+1, -1, -1, -1, +1],\n",
        "             [+1, -1, -1, -1, +1]])\n",
        "\n",
        "entrada_9 = np.array([[-1, -1, +1, -1, -1],\n",
        "             [-1, -1, +1, -1, +1],\n",
        "             [-1, +1, +1, +1, -1],\n",
        "             [+1, -1, -1, -1, +1],\n",
        "             [+1, -1, -1, -1, +1]])\n",
        "\n",
        "entrada_10 = np.array([[-1, -1, +1, -1, -1],\n",
        "             [-1, -1, +1, -1, -1],\n",
        "             [-1, +1, +1, +1, -1],\n",
        "             [+1, +1, -1, +1, +1],\n",
        "             [+1, -1, -1, -1, +1]])\n",
        "\n",
        "entrada_11 = np.array([[-1, -1, +1, -1, -1],\n",
        "             [-1, -1, +1, -1, -1],\n",
        "             [+1, +1, +1, +1, -1],\n",
        "             [+1, -1, -1, -1, +1],\n",
        "             [+1, -1, -1, -1, +1]])\n",
        "\n",
        "entrada_12 = np.array([[-1, -1, +1, -1, -1],\n",
        "             [-1, -1, +1, -1, -1],\n",
        "             [-1, +1, +1, +1, -1],\n",
        "             [+1, +1, -1, -1, +1],\n",
        "             [+1, -1, -1, +1, +1]])"
      ]
    },
    {
      "cell_type": "code",
      "execution_count": 267,
      "metadata": {
        "id": "GOpfM9t9vINw"
      },
      "outputs": [],
      "source": [
        "#pesos:\n",
        "w1 = []\n",
        "w = []\n",
        "for i in range(len(entrada_1)+1):\n",
        "  w.append(w1)\n",
        "  w1 = []\n",
        "  for j in range(len(entrada_1[0])):\n",
        "    numero_aleatorio = random.uniform(-0.5, 0.5)\n",
        "    w1.append(numero_aleatorio)\n",
        "w = w[1:]"
      ]
    },
    {
      "cell_type": "code",
      "execution_count": 268,
      "metadata": {
        "colab": {
          "base_uri": "https://localhost:8080/"
        },
        "id": "riesFPYkFVsx",
        "outputId": "1465d1ec-fda1-4148-a15e-22ec593ed563"
      },
      "outputs": [
        {
          "data": {
            "text/plain": [
              "[[-0.147878859666581,\n",
              "  -0.08250872812880139,\n",
              "  -0.4406499055364651,\n",
              "  -0.3997529970300293,\n",
              "  0.10307632058760818],\n",
              " [-0.23135976102770717,\n",
              "  0.4674258638383725,\n",
              "  0.03778133516917037,\n",
              "  -0.15113685608894978,\n",
              "  -0.049551303454447804],\n",
              " [-0.03076869497382473,\n",
              "  0.06970692372489307,\n",
              "  0.2363482287137253,\n",
              "  0.1699310270848623,\n",
              "  -0.19181699759948123],\n",
              " [-0.012560475864888954,\n",
              "  -0.42126222717154527,\n",
              "  0.16596198622449287,\n",
              "  -0.2457055143268303,\n",
              "  -0.02124958795060694],\n",
              " [0.21457666035541179,\n",
              "  -0.3856536689286413,\n",
              "  -0.3354770769790191,\n",
              "  0.2272478858708109,\n",
              "  0.34712330159865845]]"
            ]
          },
          "execution_count": 268,
          "metadata": {},
          "output_type": "execute_result"
        }
      ],
      "source": [
        "w"
      ]
    },
    {
      "cell_type": "code",
      "execution_count": 269,
      "metadata": {
        "id": "_jdPoNQJrD_w"
      },
      "outputs": [],
      "source": [
        "targets = [-1, -1, -1, -1, -1, -1, 1, 1, 1, 1, 1, 1]"
      ]
    },
    {
      "cell_type": "code",
      "execution_count": 270,
      "metadata": {
        "id": "qjLliRbDvcsI"
      },
      "outputs": [],
      "source": [
        "def adaline_treino(entrada, peso, target):\n",
        "  n = 0.1*12\n",
        "  x = 0\n",
        "  for i in range(len(entrada)):\n",
        "    for j in range(len(entrada[i])):\n",
        "      x += entrada[i][j]*peso[i][j]\n",
        "\n",
        "  if x < 0:\n",
        "    f = -1\n",
        "  else:\n",
        "    f = 1\n",
        "\n",
        "  print(f)\n",
        "  for i in range(len(entrada)):\n",
        "    for j in range(len(entrada[i])):\n",
        "      peso[i][j] = peso[i][j] + n*(target-f)*entrada[i][j]\n",
        "\n",
        "  return peso, f"
      ]
    },
    {
      "cell_type": "code",
      "execution_count": 271,
      "metadata": {
        "colab": {
          "base_uri": "https://localhost:8080/"
        },
        "id": "IchNjasMzEOL",
        "outputId": "b7a921ca-1d73-44fb-f275-6e6c42197d77"
      },
      "outputs": [
        {
          "name": "stdout",
          "output_type": "stream",
          "text": [
            "1\n",
            "-1\n",
            "-1\n",
            "-1\n",
            "-1\n",
            "-1\n",
            "-1\n",
            "1\n",
            "1\n",
            "1\n",
            "1\n",
            "1\n",
            "Ciclos: 1\n",
            "-1\n",
            "-1\n",
            "-1\n",
            "-1\n",
            "-1\n",
            "-1\n",
            "1\n",
            "1\n",
            "1\n",
            "1\n",
            "1\n",
            "1\n",
            "Ciclos: 2\n"
          ]
        }
      ],
      "source": [
        "vetor = [entrada_1, entrada_2, entrada_3, entrada_4, entrada_5, entrada_6, entrada_7, entrada_8, entrada_9, entrada_10, entrada_11, entrada_12]\n",
        "erro = 1\n",
        "retorno = []\n",
        "numero_ciclos = 0\n",
        "contagem_erro = 0\n",
        "\n",
        "while erro != 0:\n",
        "  for i in range(12):\n",
        "    retorno.append(adaline_treino(vetor[i],w, targets[i])[1])\n",
        "  erros = np.array(retorno) - np.array(targets)\n",
        "  numero_ciclos += 1\n",
        "  retorno = []\n",
        "  print(f'Ciclos: {numero_ciclos}')\n",
        "  contagem_erro = 0\n",
        "\n",
        "  for _ in erros:\n",
        "    if _ != 0:\n",
        "      contagem_erro += 1\n",
        "    else:\n",
        "      continue\n",
        "\n",
        "  if contagem_erro == 0:\n",
        "    erro = 0"
      ]
    },
    {
      "cell_type": "code",
      "execution_count": 272,
      "metadata": {
        "id": "UMQCJs-IPIF9"
      },
      "outputs": [],
      "source": [
        "def adaline_teste(entrada, peso):\n",
        "  x = 0\n",
        "  for i in range(len(entrada)):\n",
        "    for j in range(len(entrada[i])):\n",
        "      x += entrada[i][j]*peso[i][j]\n",
        "\n",
        "  if x < 0:\n",
        "    f = -1\n",
        "  else:\n",
        "    f = 1\n",
        "\n",
        "  if f == -1:\n",
        "    resultado = 'Y'\n",
        "  else:\n",
        "    resultado = 'Y Invertido'\n",
        "\n",
        "  return f, resultado"
      ]
    },
    {
      "cell_type": "code",
      "execution_count": 273,
      "metadata": {
        "id": "KIH41hA6yQCF"
      },
      "outputs": [],
      "source": [
        "entrada_13 = np.array( [[-1, -1, +1, -1, -1],\n",
        "                        [-1, -1, +1, -1, -1],\n",
        "                        [+1, +1, +1, +1, -1],\n",
        "                        [+1, +1, -1, +1, -1],\n",
        "                        [-1, +1, +1, -1, +1]])"
      ]
    },
    {
      "cell_type": "code",
      "execution_count": 274,
      "metadata": {
        "id": "bpzHO4Soyzrh"
      },
      "outputs": [],
      "source": [
        "entrada_14 =np.array( [[+1, -1, +1, -1, +1],\n",
        "                      [-1, +1, -1, +1, -1],\n",
        "                      [-1, +1, +1, +1, -1],\n",
        "                      [-1, -1, +1, -1, -1],\n",
        "                      [-1, -1, +1, -1, +1]])"
      ]
    },
    {
      "cell_type": "code",
      "execution_count": 275,
      "metadata": {
        "colab": {
          "base_uri": "https://localhost:8080/"
        },
        "id": "--T-us941op2",
        "outputId": "b4c628f4-4b3b-4dac-bbe8-db1b2b483ba7"
      },
      "outputs": [
        {
          "data": {
            "text/plain": [
              "(1, 'Y Invertido')"
            ]
          },
          "execution_count": 275,
          "metadata": {},
          "output_type": "execute_result"
        }
      ],
      "source": [
        "adaline_teste(entrada_13,w)"
      ]
    },
    {
      "cell_type": "code",
      "execution_count": 276,
      "metadata": {
        "colab": {
          "base_uri": "https://localhost:8080/"
        },
        "id": "5Dla517o1r3Y",
        "outputId": "7af8f2ce-02b9-43e8-f787-4133658c8d00"
      },
      "outputs": [
        {
          "data": {
            "text/plain": [
              "(-1, 'Y')"
            ]
          },
          "execution_count": 276,
          "metadata": {},
          "output_type": "execute_result"
        }
      ],
      "source": [
        "adaline_teste(entrada_14,w)"
      ]
    }
  ],
  "metadata": {
    "colab": {
      "provenance": []
    },
    "kernelspec": {
      "display_name": "Python 3",
      "name": "python3"
    },
    "language_info": {
      "name": "python"
    }
  },
  "nbformat": 4,
  "nbformat_minor": 0
}
